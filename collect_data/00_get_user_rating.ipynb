{
 "cells": [
  {
   "cell_type": "markdown",
   "metadata": {},
   "source": [
    "# Lọc user và chuyển tuổi về trẻ hơn"
   ]
  },
  {
   "cell_type": "code",
   "execution_count": 27,
   "metadata": {},
   "outputs": [],
   "source": [
    "import pandas as pd\n",
    "from datetime import timedelta\n",
    "from datetime import datetime"
   ]
  },
  {
   "cell_type": "code",
   "execution_count": 28,
   "metadata": {},
   "outputs": [
    {
     "name": "stderr",
     "output_type": "stream",
     "text": [
      "C:\\Users\\Admin\\AppData\\Local\\Temp\\ipykernel_33524\\996885328.py:1: ParserWarning: Falling back to the 'python' engine because the 'c' engine does not support regex separators (separators > 1 char and different from '\\s+' are interpreted as regex); you can avoid this warning by specifying engine='python'.\n",
      "  users_df = pd.read_csv('users.dat', sep='::', names=['UserID', 'Gender', 'Age', 'Occupation', 'Zip-code'])\n"
     ]
    }
   ],
   "source": [
    "users_df = pd.read_csv('users.dat', sep='::', names=['UserID', 'Gender', 'Age', 'Occupation', 'Zip-code'])\n",
    "user_gender_df = users_df[['UserID', 'Gender', 'Age']]\n",
    "gen_dummies = user_gender_df['Gender'].str.get_dummies()\n",
    "user_feat_df = (pd.concat([user_gender_df, gen_dummies], axis=1).drop([\"Gender\"], axis=1))\n"
   ]
  },
  {
   "cell_type": "code",
   "execution_count": 29,
   "metadata": {},
   "outputs": [],
   "source": [
    "def chuyen_age(df, age, toAge):\n",
    "    df.loc[df['Age'] == age, 'Age'] = toAge\n",
    "    return df"
   ]
  },
  {
   "cell_type": "code",
   "execution_count": 30,
   "metadata": {},
   "outputs": [
    {
     "data": {
      "text/html": [
       "<div>\n",
       "<style scoped>\n",
       "    .dataframe tbody tr th:only-of-type {\n",
       "        vertical-align: middle;\n",
       "    }\n",
       "\n",
       "    .dataframe tbody tr th {\n",
       "        vertical-align: top;\n",
       "    }\n",
       "\n",
       "    .dataframe thead th {\n",
       "        text-align: right;\n",
       "    }\n",
       "</style>\n",
       "<table border=\"1\" class=\"dataframe\">\n",
       "  <thead>\n",
       "    <tr style=\"text-align: right;\">\n",
       "      <th></th>\n",
       "      <th>UserID</th>\n",
       "      <th>Age</th>\n",
       "      <th>F</th>\n",
       "      <th>M</th>\n",
       "    </tr>\n",
       "  </thead>\n",
       "  <tbody>\n",
       "    <tr>\n",
       "      <th>0</th>\n",
       "      <td>1</td>\n",
       "      <td>16</td>\n",
       "      <td>1</td>\n",
       "      <td>0</td>\n",
       "    </tr>\n",
       "    <tr>\n",
       "      <th>1</th>\n",
       "      <td>2</td>\n",
       "      <td>35</td>\n",
       "      <td>0</td>\n",
       "      <td>1</td>\n",
       "    </tr>\n",
       "    <tr>\n",
       "      <th>2</th>\n",
       "      <td>3</td>\n",
       "      <td>25</td>\n",
       "      <td>0</td>\n",
       "      <td>1</td>\n",
       "    </tr>\n",
       "    <tr>\n",
       "      <th>3</th>\n",
       "      <td>4</td>\n",
       "      <td>29</td>\n",
       "      <td>0</td>\n",
       "      <td>1</td>\n",
       "    </tr>\n",
       "    <tr>\n",
       "      <th>4</th>\n",
       "      <td>5</td>\n",
       "      <td>25</td>\n",
       "      <td>0</td>\n",
       "      <td>1</td>\n",
       "    </tr>\n",
       "  </tbody>\n",
       "</table>\n",
       "</div>"
      ],
      "text/plain": [
       "   UserID  Age  F  M\n",
       "0       1   16  1  0\n",
       "1       2   35  0  1\n",
       "2       3   25  0  1\n",
       "3       4   29  0  1\n",
       "4       5   25  0  1"
      ]
     },
     "execution_count": 30,
     "metadata": {},
     "output_type": "execute_result"
    }
   ],
   "source": [
    "user_feat_df = chuyen_age(user_feat_df, 35, 27)\n",
    "user_feat_df = chuyen_age(user_feat_df, 45, 29)\n",
    "user_feat_df = chuyen_age(user_feat_df, 50, 32)\n",
    "user_feat_df = chuyen_age(user_feat_df, 56, 35)\n",
    "user_feat_df = chuyen_age(user_feat_df, 1, 16)\n",
    "user_feat_df.head()"
   ]
  },
  {
   "cell_type": "code",
   "execution_count": 31,
   "metadata": {},
   "outputs": [],
   "source": [
    "user_feat_df.to_csv('user.csv', index=False)"
   ]
  },
  {
   "cell_type": "markdown",
   "metadata": {},
   "source": [
    "# Get và lọc rating cho product trong shoopfee chỉ có 33 product"
   ]
  },
  {
   "cell_type": "code",
   "execution_count": 32,
   "metadata": {},
   "outputs": [
    {
     "name": "stderr",
     "output_type": "stream",
     "text": [
      "C:\\Users\\Admin\\AppData\\Local\\Temp\\ipykernel_33524\\3383943049.py:1: ParserWarning: Falling back to the 'python' engine because the 'c' engine does not support regex separators (separators > 1 char and different from '\\s+' are interpreted as regex); you can avoid this warning by specifying engine='python'.\n",
      "  interacts_df = pd.read_csv('ratings.dat', sep='::', names=['UserID', 'MovieID', 'Rating', 'Timestamp']).sort_values(\"Timestamp\")\n"
     ]
    },
    {
     "data": {
      "text/html": [
       "<div>\n",
       "<style scoped>\n",
       "    .dataframe tbody tr th:only-of-type {\n",
       "        vertical-align: middle;\n",
       "    }\n",
       "\n",
       "    .dataframe tbody tr th {\n",
       "        vertical-align: top;\n",
       "    }\n",
       "\n",
       "    .dataframe thead th {\n",
       "        text-align: right;\n",
       "    }\n",
       "</style>\n",
       "<table border=\"1\" class=\"dataframe\">\n",
       "  <thead>\n",
       "    <tr style=\"text-align: right;\">\n",
       "      <th></th>\n",
       "      <th>UserID</th>\n",
       "      <th>ItemID</th>\n",
       "      <th>Rating</th>\n",
       "      <th>Timestamp</th>\n",
       "    </tr>\n",
       "  </thead>\n",
       "  <tbody>\n",
       "    <tr>\n",
       "      <th>1000138</th>\n",
       "      <td>6040</td>\n",
       "      <td>858</td>\n",
       "      <td>4</td>\n",
       "      <td>956703932</td>\n",
       "    </tr>\n",
       "    <tr>\n",
       "      <th>1000153</th>\n",
       "      <td>6040</td>\n",
       "      <td>2384</td>\n",
       "      <td>4</td>\n",
       "      <td>956703954</td>\n",
       "    </tr>\n",
       "    <tr>\n",
       "      <th>999873</th>\n",
       "      <td>6040</td>\n",
       "      <td>593</td>\n",
       "      <td>5</td>\n",
       "      <td>956703954</td>\n",
       "    </tr>\n",
       "    <tr>\n",
       "      <th>1000007</th>\n",
       "      <td>6040</td>\n",
       "      <td>1961</td>\n",
       "      <td>4</td>\n",
       "      <td>956703977</td>\n",
       "    </tr>\n",
       "    <tr>\n",
       "      <th>1000192</th>\n",
       "      <td>6040</td>\n",
       "      <td>2019</td>\n",
       "      <td>5</td>\n",
       "      <td>956703977</td>\n",
       "    </tr>\n",
       "  </tbody>\n",
       "</table>\n",
       "</div>"
      ],
      "text/plain": [
       "         UserID  ItemID  Rating  Timestamp\n",
       "1000138    6040     858       4  956703932\n",
       "1000153    6040    2384       4  956703954\n",
       "999873     6040     593       5  956703954\n",
       "1000007    6040    1961       4  956703977\n",
       "1000192    6040    2019       5  956703977"
      ]
     },
     "execution_count": 32,
     "metadata": {},
     "output_type": "execute_result"
    }
   ],
   "source": [
    "interacts_df = pd.read_csv('ratings.dat', sep='::', names=['UserID', 'MovieID', 'Rating', 'Timestamp']).sort_values(\"Timestamp\")\n",
    "interacts_df.sort_values(by='Timestamp')\n",
    "interacts_df.rename(columns={'MovieID': 'ItemID'}, inplace=True)\n",
    "interacts_df.head()"
   ]
  },
  {
   "cell_type": "code",
   "execution_count": 33,
   "metadata": {},
   "outputs": [
    {
     "data": {
      "text/plain": [
       "(1000209, 4)"
      ]
     },
     "execution_count": 33,
     "metadata": {},
     "output_type": "execute_result"
    }
   ],
   "source": [
    "interacts_df.shape"
   ]
  },
  {
   "cell_type": "code",
   "execution_count": 34,
   "metadata": {},
   "outputs": [],
   "source": [
    "mask = interacts_df['ItemID'] >= 34"
   ]
  },
  {
   "cell_type": "code",
   "execution_count": 35,
   "metadata": {},
   "outputs": [
    {
     "data": {
      "text/plain": [
       "1000138    True\n",
       "1000153    True\n",
       "999873     True\n",
       "1000007    True\n",
       "1000192    True\n",
       "           ... \n",
       "825793     True\n",
       "825438     True\n",
       "825724     True\n",
       "825731     True\n",
       "825603     True\n",
       "Name: ItemID, Length: 1000209, dtype: bool"
      ]
     },
     "execution_count": 35,
     "metadata": {},
     "output_type": "execute_result"
    }
   ],
   "source": [
    "mask"
   ]
  },
  {
   "cell_type": "code",
   "execution_count": 36,
   "metadata": {},
   "outputs": [],
   "source": [
    "# loại bỏ những id lớn hơn 33\n",
    "interacts_df = interacts_df[interacts_df['ItemID'] <= 33]"
   ]
  },
  {
   "cell_type": "code",
   "execution_count": 37,
   "metadata": {},
   "outputs": [],
   "source": [
    "#  # Lấy và chuyển đổi id trên 33 về [1, 33]\n",
    "# mask = interacts_df['ItemID'] >= 34\n",
    "\n",
    "# # Chuyển đổi các giá trị ItemID thỏa điều kiện thành các giá trị từ 1 đến 33\n",
    "# interacts_df.loc[mask, 'ItemID'] = interacts_df.loc[mask, 'ItemID'] % 33 + 1\n",
    "# interacts_df.describe()"
   ]
  },
  {
   "cell_type": "code",
   "execution_count": 38,
   "metadata": {},
   "outputs": [
    {
     "data": {
      "text/plain": [
       "33"
      ]
     },
     "execution_count": 38,
     "metadata": {},
     "output_type": "execute_result"
    }
   ],
   "source": [
    "len(interacts_df['ItemID'].unique())"
   ]
  },
  {
   "cell_type": "code",
   "execution_count": 39,
   "metadata": {},
   "outputs": [
    {
     "data": {
      "text/plain": [
       "UserID       15929\n",
       "ItemID       15929\n",
       "Rating       15929\n",
       "Timestamp    15929\n",
       "dtype: int64"
      ]
     },
     "execution_count": 39,
     "metadata": {},
     "output_type": "execute_result"
    }
   ],
   "source": [
    "\n",
    "interacts_df.to_csv('rating.csv', index=False)\n",
    "interacts_df.count()"
   ]
  },
  {
   "cell_type": "code",
   "execution_count": 40,
   "metadata": {},
   "outputs": [
    {
     "data": {
      "text/plain": [
       "(15929, 4)"
      ]
     },
     "execution_count": 40,
     "metadata": {},
     "output_type": "execute_result"
    }
   ],
   "source": [
    "interacts_df.shape"
   ]
  },
  {
   "cell_type": "code",
   "execution_count": 41,
   "metadata": {},
   "outputs": [
    {
     "name": "stdout",
     "output_type": "stream",
     "text": [
      "Rectangle(xy=(0.6, 0), width=0.8, height=2077, angle=0)\n",
      "Rectangle(xy=(31.6, 0), width=0.8, height=1511, angle=0)\n",
      "Rectangle(xy=(20.6, 0), width=0.8, height=1356, angle=0)\n",
      "Rectangle(xy=(10.6, 0), width=0.8, height=1033, angle=0)\n",
      "Rectangle(xy=(24.6, 0), width=0.8, height=980, angle=0)\n",
      "Rectangle(xy=(5.6, 0), width=0.8, height=940, angle=0)\n",
      "Rectangle(xy=(9.6, 0), width=0.8, height=888, angle=0)\n",
      "Rectangle(xy=(16.6, 0), width=0.8, height=835, angle=0)\n",
      "Rectangle(xy=(1.6, 0), width=0.8, height=701, angle=0)\n",
      "Rectangle(xy=(15.6, 0), width=0.8, height=682, angle=0)\n",
      "Rectangle(xy=(23.6, 0), width=0.8, height=624, angle=0)\n",
      "Rectangle(xy=(2.6, 0), width=0.8, height=478, angle=0)\n",
      "Rectangle(xy=(6.6, 0), width=0.8, height=458, angle=0)\n",
      "Rectangle(xy=(28.6, 0), width=0.8, height=403, angle=0)\n",
      "Rectangle(xy=(18.6, 0), width=0.8, height=389, angle=0)\n",
      "Rectangle(xy=(21.6, 0), width=0.8, height=378, angle=0)\n",
      "Rectangle(xy=(4.6, 0), width=0.8, height=296, angle=0)\n",
      "Rectangle(xy=(27.6, 0), width=0.8, height=179, angle=0)\n",
      "Rectangle(xy=(3.6, 0), width=0.8, height=170, angle=0)\n",
      "Rectangle(xy=(11.6, 0), width=0.8, height=160, angle=0)\n",
      "Rectangle(xy=(19.6, 0), width=0.8, height=160, angle=0)\n",
      "Rectangle(xy=(17.6, 0), width=0.8, height=157, angle=0)\n",
      "Rectangle(xy=(13.6, 0), width=0.8, height=153, angle=0)\n",
      "Rectangle(xy=(14.6, 0), width=0.8, height=146, angle=0)\n",
      "Rectangle(xy=(30.6, 0), width=0.8, height=141, angle=0)\n",
      "Rectangle(xy=(22.6, 0), width=0.8, height=126, angle=0)\n",
      "Rectangle(xy=(8.6, 0), width=0.8, height=102, angle=0)\n",
      "Rectangle(xy=(25.6, 0), width=0.8, height=100, angle=0)\n",
      "Rectangle(xy=(12.6, 0), width=0.8, height=99, angle=0)\n",
      "Rectangle(xy=(29.6, 0), width=0.8, height=74, angle=0)\n",
      "Rectangle(xy=(7.6, 0), width=0.8, height=68, angle=0)\n",
      "Rectangle(xy=(26.6, 0), width=0.8, height=61, angle=0)\n",
      "Rectangle(xy=(32.6, 0), width=0.8, height=4, angle=0)\n"
     ]
    },
    {
     "data": {
      "image/png": "[encoded data removed]",
      "text/plain": [
       "<Figure size 800x600 with 1 Axes>"
      ]
     },
     "metadata": {},
     "output_type": "display_data"
    },
    {
     "ename": "",
     "evalue": "",
     "output_type": "error",
     "traceback": [
      "\u001b[1;31mThe Kernel crashed while executing code in the current cell or a previous cell. \n",
      "\u001b[1;31mPlease review the code in the cell(s) to identify a possible cause of the failure. \n",
      "\u001b[1;31mClick <a href='https://aka.ms/vscodeJupyterKernelCrash'>here</a> for more info. \n",
      "\u001b[1;31mView Jupyter <a href='command:jupyter.viewOutput'>log</a> for further details."
     ]
    }
   ],
   "source": [
    "import pandas as pd\n",
    "import matplotlib.pyplot as plt\n",
    "item_counts = interacts_df['ItemID'].value_counts()\n",
    "\n",
    "# Chuẩn bị dữ liệu cho biểu đồ\n",
    "item_ids = item_counts.index\n",
    "counts = item_counts.values\n",
    "\n",
    "# Vẽ biểu đồ cột và tô màu theo điều kiện ItemID từ 0 đến 3 (ví dụ)\n",
    "plt.figure(figsize=(8, 6))\n",
    "bars = plt.bar(item_ids, counts, color='skyblue')\n",
    "\n",
    "# Tô màu các cột có ItemID từ 0 đến 3 là màu vàng\n",
    "for i in range(33):  # Ví dụ từ 0 đến 33\n",
    "    print(bars[i])\n",
    "    bars[i].set_color('gold')\n",
    "\n",
    "plt.xlabel('ItemID')\n",
    "plt.ylabel('Số lượng hàng')\n",
    "plt.title('Số lượng hàng theo từng ItemID')\n",
    "plt.xticks(item_ids)\n",
    "plt.show()"
   ]
  }
 ],
 "metadata": {
  "kernelspec": {
   "display_name": "pytorch",
   "language": "python",
   "name": "python3"
  },
  "language_info": {
   "codemirror_mode": {
    "name": "ipython",
    "version": 3
   },
   "file_extension": ".py",
   "mimetype": "text/x-python",
   "name": "python",
   "nbconvert_exporter": "python",
   "pygments_lexer": "ipython3",
   "version": "3.9.19"
  }
 },
 "nbformat": 4,
 "nbformat_minor": 2
}
