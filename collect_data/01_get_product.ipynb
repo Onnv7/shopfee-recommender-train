{
 "cells": [
  {
   "cell_type": "markdown",
   "metadata": {},
   "source": [
    "# Clean product"
   ]
  },
  {
   "cell_type": "code",
   "execution_count": 4,
   "metadata": {},
   "outputs": [],
   "source": [
    "import pandas as pd"
   ]
  },
  {
   "cell_type": "code",
   "execution_count": 5,
   "metadata": {},
   "outputs": [
    {
     "data": {
      "text/html": [
       "<div>\n",
       "<style scoped>\n",
       "    .dataframe tbody tr th:only-of-type {\n",
       "        vertical-align: middle;\n",
       "    }\n",
       "\n",
       "    .dataframe tbody tr th {\n",
       "        vertical-align: top;\n",
       "    }\n",
       "\n",
       "    .dataframe thead th {\n",
       "        text-align: right;\n",
       "    }\n",
       "</style>\n",
       "<table border=\"1\" class=\"dataframe\">\n",
       "  <thead>\n",
       "    <tr style=\"text-align: right;\">\n",
       "      <th></th>\n",
       "      <th>ItemID</th>\n",
       "      <th>Name</th>\n",
       "      <th>category</th>\n",
       "      <th>description</th>\n",
       "      <th>Type</th>\n",
       "      <th>Coffee</th>\n",
       "      <th>Tea</th>\n",
       "      <th>Chocolate</th>\n",
       "      <th>Matcha</th>\n",
       "      <th>Cream</th>\n",
       "      <th>Vani</th>\n",
       "      <th>Milk</th>\n",
       "      <th>Pumpkin</th>\n",
       "      <th>Cheese</th>\n",
       "    </tr>\n",
       "  </thead>\n",
       "  <tbody>\n",
       "    <tr>\n",
       "      <th>0</th>\n",
       "      <td>1</td>\n",
       "      <td>Ice Chocolate</td>\n",
       "      <td>Coffee</td>\n",
       "      <td>Not as sweet as Faint Silver or Milk Coffee, I...</td>\n",
       "      <td>1</td>\n",
       "      <td>1</td>\n",
       "      <td>0</td>\n",
       "      <td>1</td>\n",
       "      <td>0</td>\n",
       "      <td>0</td>\n",
       "      <td>0</td>\n",
       "      <td>1</td>\n",
       "      <td>0</td>\n",
       "      <td>0</td>\n",
       "    </tr>\n",
       "    <tr>\n",
       "      <th>1</th>\n",
       "      <td>2</td>\n",
       "      <td>Oolong Grilled Cream Cheese</td>\n",
       "      <td>Tea</td>\n",
       "      <td>In particular, immediately conquer cheese love...</td>\n",
       "      <td>1</td>\n",
       "      <td>0</td>\n",
       "      <td>0</td>\n",
       "      <td>0</td>\n",
       "      <td>0</td>\n",
       "      <td>1</td>\n",
       "      <td>0</td>\n",
       "      <td>1</td>\n",
       "      <td>0</td>\n",
       "      <td>1</td>\n",
       "    </tr>\n",
       "    <tr>\n",
       "      <th>2</th>\n",
       "      <td>3</td>\n",
       "      <td>Faint Silver</td>\n",
       "      <td>Coffee</td>\n",
       "      <td>Faint Silver is \"Cup of white milk with a litt...</td>\n",
       "      <td>1</td>\n",
       "      <td>1</td>\n",
       "      <td>0</td>\n",
       "      <td>0</td>\n",
       "      <td>0</td>\n",
       "      <td>0</td>\n",
       "      <td>0</td>\n",
       "      <td>1</td>\n",
       "      <td>0</td>\n",
       "      <td>0</td>\n",
       "    </tr>\n",
       "    <tr>\n",
       "      <th>3</th>\n",
       "      <td>4</td>\n",
       "      <td>Roasted Oolong Latte</td>\n",
       "      <td>Latte</td>\n",
       "      <td>This is a healthy drink that helps you stay aw...</td>\n",
       "      <td>1</td>\n",
       "      <td>1</td>\n",
       "      <td>0</td>\n",
       "      <td>0</td>\n",
       "      <td>0</td>\n",
       "      <td>1</td>\n",
       "      <td>0</td>\n",
       "      <td>1</td>\n",
       "      <td>0</td>\n",
       "      <td>1</td>\n",
       "    </tr>\n",
       "    <tr>\n",
       "      <th>4</th>\n",
       "      <td>5</td>\n",
       "      <td>Crafted Coffee</td>\n",
       "      <td>Coffee</td>\n",
       "      <td>Cold-brewed coffee with a splash of milk and r...</td>\n",
       "      <td>1</td>\n",
       "      <td>1</td>\n",
       "      <td>0</td>\n",
       "      <td>0</td>\n",
       "      <td>0</td>\n",
       "      <td>0</td>\n",
       "      <td>0</td>\n",
       "      <td>1</td>\n",
       "      <td>0</td>\n",
       "      <td>1</td>\n",
       "    </tr>\n",
       "  </tbody>\n",
       "</table>\n",
       "</div>"
      ],
      "text/plain": [
       "   ItemID                         Name category  \\\n",
       "0       1                Ice Chocolate   Coffee   \n",
       "1       2  Oolong Grilled Cream Cheese      Tea   \n",
       "2       3                 Faint Silver   Coffee   \n",
       "3       4         Roasted Oolong Latte    Latte   \n",
       "4       5               Crafted Coffee   Coffee   \n",
       "\n",
       "                                         description  Type  Coffee  Tea  \\\n",
       "0  Not as sweet as Faint Silver or Milk Coffee, I...     1       1    0   \n",
       "1  In particular, immediately conquer cheese love...     1       0    0   \n",
       "2  Faint Silver is \"Cup of white milk with a litt...     1       1    0   \n",
       "3  This is a healthy drink that helps you stay aw...     1       1    0   \n",
       "4  Cold-brewed coffee with a splash of milk and r...     1       1    0   \n",
       "\n",
       "   Chocolate  Matcha  Cream  Vani  Milk  Pumpkin  Cheese  \n",
       "0          1       0      0     0     1        0       0  \n",
       "1          0       0      1     0     1        0       1  \n",
       "2          0       0      0     0     1        0       0  \n",
       "3          0       0      1     0     1        0       1  \n",
       "4          0       0      0     0     1        0       1  "
      ]
     },
     "execution_count": 5,
     "metadata": {},
     "output_type": "execute_result"
    }
   ],
   "source": [
    "product_df = pd.read_csv('item_raw.csv')\n",
    "product_df.head()"
   ]
  },
  {
   "cell_type": "code",
   "execution_count": 6,
   "metadata": {},
   "outputs": [
    {
     "ename": "",
     "evalue": "",
     "output_type": "error",
     "traceback": [
      "\u001b[1;31mThe Kernel crashed while executing code in the current cell or a previous cell. \n",
      "\u001b[1;31mPlease review the code in the cell(s) to identify a possible cause of the failure. \n",
      "\u001b[1;31mClick <a href='https://aka.ms/vscodeJupyterKernelCrash'>here</a> for more info. \n",
      "\u001b[1;31mView Jupyter <a href='command:jupyter.viewOutput'>log</a> for further details."
     ]
    }
   ],
   "source": [
    "product_df.drop(columns=['category', 'description'], inplace=True)\n",
    "product_df.to_csv('product.csv', index= False)"
   ]
  }
 ],
 "metadata": {
  "kernelspec": {
   "display_name": "pytorch",
   "language": "python",
   "name": "python3"
  },
  "language_info": {
   "codemirror_mode": {
    "name": "ipython",
    "version": 3
   },
   "file_extension": ".py",
   "mimetype": "text/x-python",
   "name": "python",
   "nbconvert_exporter": "python",
   "pygments_lexer": "ipython3",
   "version": "3.9.19"
  }
 },
 "nbformat": 4,
 "nbformat_minor": 2
}
