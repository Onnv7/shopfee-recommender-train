{
 "cells": [
  {
   "cell_type": "code",
   "execution_count": 4,
   "metadata": {},
   "outputs": [],
   "source": [
    "import pandas as pd\n",
    "\n",
    "def format_user_id(user_id):\n",
    "    return f\"U{user_id:08d}\"\n",
    "\n",
    "# Đọc file CSV\n",
    "user_df = pd.read_csv('user.csv')\n",
    "\n",
    "# Chuyển đổi cột UserID\n",
    "user_df['UserID'] = user_df['UserID'].apply(format_user_id)\n",
    "\n",
    "# Lưu lại file CSV đã được chỉnh sửa\n",
    "user_df.to_csv('user.csv', index=False)\n"
   ]
  },
  {
   "cell_type": "code",
   "execution_count": 5,
   "metadata": {},
   "outputs": [],
   "source": [
    "def format_product_id(user_id):\n",
    "    return f\"P{user_id:04d}\"\n",
    "\n",
    "# Đọc file CSV\n",
    "product_df = pd.read_csv('product.csv')\n",
    "\n",
    "# Chuyển đổi cột UserID\n",
    "product_df['ItemID'] = product_df['ItemID'].apply(format_product_id)\n",
    "\n",
    "# Lưu lại file CSV đã được chỉnh sửa\n",
    "product_df.to_csv('product.csv', index=False)"
   ]
  },
  {
   "cell_type": "code",
   "execution_count": 6,
   "metadata": {},
   "outputs": [],
   "source": [
    "# Đọc file CSV\n",
    "rating_df = pd.read_csv('rating.csv')\n",
    "\n",
    "# Chuyển đổi cột UserID\n",
    "rating_df['ItemID'] = rating_df['ItemID'].apply(format_product_id)\n",
    "rating_df['UserID'] = rating_df['UserID'].apply(format_user_id)\n",
    "\n",
    "# Lưu lại file CSV đã được chỉnh sửa\n",
    "rating_df.to_csv('rating.csv', index=False)"
   ]
  }
 ],
 "metadata": {
  "kernelspec": {
   "display_name": "pytorch",
   "language": "python",
   "name": "python3"
  },
  "language_info": {
   "codemirror_mode": {
    "name": "ipython",
    "version": 3
   },
   "file_extension": ".py",
   "mimetype": "text/x-python",
   "name": "python",
   "nbconvert_exporter": "python",
   "pygments_lexer": "ipython3",
   "version": "3.9.19"
  }
 },
 "nbformat": 4,
 "nbformat_minor": 2
}
