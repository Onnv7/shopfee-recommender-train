{
 "cells": [
  {
   "cell_type": "code",
   "execution_count": null,
   "metadata": {},
   "outputs": [],
   "source": [
    "import pandas as pd\n",
    "import mysql.connector"
   ]
  },
  {
   "cell_type": "code",
   "execution_count": null,
   "metadata": {},
   "outputs": [],
   "source": [
    "db_config = {\n",
    "    'host': 'localhost',\n",
    "    'database': 'shopfee',\n",
    "    'user': 'root',\n",
    "    'password': 'hcmute',\n",
    "    'port': '3307',  # Nếu cần thiết\n",
    "    'charset': 'utf8mb4'  # Nếu cần thiết\n",
    "}\n",
    "\n",
    "# Kết nối tới MySQL\n",
    "conn = mysql.connector.connect(**db_config)"
   ]
  },
  {
   "cell_type": "code",
   "execution_count": null,
   "metadata": {},
   "outputs": [],
   "source": [
    "conn = mysql.connector.connect(**db_config)\n",
    "cursor = conn.cursor()"
   ]
  },
  {
   "cell_type": "code",
   "execution_count": null,
   "metadata": {},
   "outputs": [],
   "source": [
    "import numpy as np  # Import numpy để sử dụng np.nan\n",
    "\n",
    "# Hàm để import từng file CSV vào MySQL\n",
    "def import_csv_to_mysql(csv_file, table_name):\n",
    "    # Đọc CSV vào DataFrame\n",
    "    df = pd.read_csv(csv_file)\n",
    "    \n",
    "    # Xử lý giá trị NaN bằng cách thay thế bằng None\n",
    "    df = df.where(pd.notna(df), None)\n",
    "    \n",
    "    # Chuẩn bị truy vấn SQL cho INSERT\n",
    "    columns = ','.join(df.columns)\n",
    "    values = ','.join(['%s'] * len(df.columns))\n",
    "    print(columns)\n",
    "    print(values)\n",
    "    insert_query = f\"INSERT INTO {table_name} ({columns}) VALUES ({values})\"\n",
    "    \n",
    "    # Chuyển đổi dữ liệu DataFrame thành list các tuple để insert vào MySQL\n",
    "    data = [tuple(row) for row in df.values]\n",
    "    \n",
    "    # Thực thi truy vấn INSERT\n",
    "    cursor.executemany(insert_query, data)\n",
    "    conn.commit()\n",
    "    print(f\"Imported {len(data)} records into {table_name}\")\n",
    "\n",
    "    # print(columns)\n",
    "    # print(values)"
   ]
  },
  {
   "cell_type": "code",
   "execution_count": null,
   "metadata": {},
   "outputs": [
    {
     "ename": "",
     "evalue": "",
     "output_type": "error",
     "traceback": [
      "\u001b[1;31mThe Kernel crashed while executing code in the current cell or a previous cell. \n",
      "\u001b[1;31mPlease review the code in the cell(s) to identify a possible cause of the failure. \n",
      "\u001b[1;31mClick <a href='https://aka.ms/vscodeJupyterKernelCrash'>here</a> for more info. \n",
      "\u001b[1;31mView Jupyter <a href='command:jupyter.viewOutput'>log</a> for further details."
     ]
    }
   ],
   "source": [
    "csv_files = ['album.csv', 'category.csv', 'product.csv', 'branch.csv', 'branch_product.csv']\n",
    "table_names = ['album', 'category', 'product', 'branch', 'branch_product']\n",
    "\n",
    "for csv_file, table_name in zip(csv_files, table_names):\n",
    "\n",
    "\n",
    "    import_csv_to_mysql(csv_file, table_name)\n",
    "\n",
    "# Đóng kết nối MySQL\n",
    "cursor.close()\n",
    "conn.close()"
   ]
  }
 ],
 "metadata": {
  "kernelspec": {
   "display_name": "pytorch",
   "language": "python",
   "name": "python3"
  },
  "language_info": {
   "codemirror_mode": {
    "name": "ipython",
    "version": 3
   },
   "file_extension": ".py",
   "mimetype": "text/x-python",
   "name": "python",
   "nbconvert_exporter": "python",
   "pygments_lexer": "ipython3",
   "version": "3.9.19"
  }
 },
 "nbformat": 4,
 "nbformat_minor": 2
}
