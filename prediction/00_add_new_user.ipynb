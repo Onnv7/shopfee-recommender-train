{
 "cells": [
  {
   "cell_type": "code",
   "execution_count": null,
   "metadata": {},
   "outputs": [],
   "source": [
    "# %pip install scikit-optimize\n",
    "# %pip install boto3\n",
    "# %pip install dgl==0.9.0\n",
    "# %pip install dgl-cu101\n",
    "\n",
    "from torch.multiprocessing import Pool, Process, set_start_method\n",
    "import dgl.function as dgl_func\n",
    "import dgl\n",
    "import torch\n",
    "import dgl.function as fn\n",
    "import dgl.nn.pytorch as dglnn\n",
    "from dgl.dataloading import MultiLayerNeighborSampler, as_edge_prediction_sampler\n",
    "import pandas as pd\n",
    "import copy\n",
    "import torch\n",
    "import torch.nn as nn\n",
    "import torch.nn.functional as torch_nn_func\n",
    "import dgl\n",
    "import dgl.nn.pytorch as dglnn\n",
    "import dgl.function as dgl_func\n",
    "import torch\n",
    "from sklearn.model_selection import train_test_split\n",
    "import numpy as np\n",
    "from datetime import timedelta\n",
    "from collections import defaultdict\n",
    "from typing import Tuple\n",
    "import matplotlib.pyplot as plt\n",
    "from sklearn.metrics import roc_auc_score\n",
    "from datetime import datetime\n",
    "import textwrap\n",
    "import math\n",
    "import sys\n",
    "import time\n",
    "import pickle\n",
    "\n",
    "\n",
    "\n",
    "try:\n",
    "    set_start_method('spawn')\n",
    "except RuntimeError:\n",
    "    pass"
   ]
  },
  {
   "cell_type": "code",
   "execution_count": null,
   "metadata": {},
   "outputs": [],
   "source": [
    "all_user_df = pd.read_csv('../collect_data/user.csv')\n"
   ]
  }
 ],
 "metadata": {
  "language_info": {
   "name": "python"
  }
 },
 "nbformat": 4,
 "nbformat_minor": 2
}
